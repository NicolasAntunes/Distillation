{
 "cells": [
  {
   "cell_type": "markdown",
   "metadata": {},
   "source": [
    "# Binary flash\n",
    "\n",
    "The simplest type of liquid-vapor separation operation is the single stage flashing of a binary (two component) mixture. This unit operation involves the heating and/or pressure reduction of a liquid mixture followed by the formation of a second vapor phase which disengages from the former in a drum with a sufficiently large cross section."
   ]
  },
  {
   "cell_type": "markdown",
   "metadata": {},
   "source": [
    "![title](Images/BinaryFlash.gif)\n",
    "\n",
    "Source: ETH Zürich's Hyper-TVT (http://www.hyper-tvt.ethz.ch/)"
   ]
  },
  {
   "cell_type": "code",
   "execution_count": null,
   "metadata": {},
   "outputs": [],
   "source": []
  }
 ],
 "metadata": {
  "kernelspec": {
   "display_name": "Python 3",
   "language": "python",
   "name": "python3"
  },
  "language_info": {
   "codemirror_mode": {
    "name": "ipython",
    "version": 3
   },
   "file_extension": ".py",
   "mimetype": "text/x-python",
   "name": "python",
   "nbconvert_exporter": "python",
   "pygments_lexer": "ipython3",
   "version": "3.6.5"
  }
 },
 "nbformat": 4,
 "nbformat_minor": 2
}
